{
 "cells": [
  {
   "cell_type": "code",
   "execution_count": 1,
   "id": "50ac34ed",
   "metadata": {},
   "outputs": [],
   "source": [
    "import pandas as pd"
   ]
  },
  {
   "cell_type": "code",
   "execution_count": 2,
   "id": "8d218487",
   "metadata": {},
   "outputs": [],
   "source": [
    "df = pd.read_csv(\"spotify_millsongdata.csv\")"
   ]
  },
  {
   "cell_type": "code",
   "execution_count": 3,
   "id": "79919672",
   "metadata": {},
   "outputs": [
    {
     "data": {
      "text/html": [
       "<div>\n",
       "<style scoped>\n",
       "    .dataframe tbody tr th:only-of-type {\n",
       "        vertical-align: middle;\n",
       "    }\n",
       "\n",
       "    .dataframe tbody tr th {\n",
       "        vertical-align: top;\n",
       "    }\n",
       "\n",
       "    .dataframe thead th {\n",
       "        text-align: right;\n",
       "    }\n",
       "</style>\n",
       "<table border=\"1\" class=\"dataframe\">\n",
       "  <thead>\n",
       "    <tr style=\"text-align: right;\">\n",
       "      <th></th>\n",
       "      <th>artist</th>\n",
       "      <th>song</th>\n",
       "      <th>link</th>\n",
       "      <th>text</th>\n",
       "    </tr>\n",
       "  </thead>\n",
       "  <tbody>\n",
       "    <tr>\n",
       "      <th>0</th>\n",
       "      <td>ABBA</td>\n",
       "      <td>Ahe's My Kind Of Girl</td>\n",
       "      <td>/a/abba/ahes+my+kind+of+girl_20598417.html</td>\n",
       "      <td>Look at her face, it's a wonderful face  \\r\\nA...</td>\n",
       "    </tr>\n",
       "    <tr>\n",
       "      <th>1</th>\n",
       "      <td>ABBA</td>\n",
       "      <td>Andante, Andante</td>\n",
       "      <td>/a/abba/andante+andante_20002708.html</td>\n",
       "      <td>Take it easy with me, please  \\r\\nTouch me gen...</td>\n",
       "    </tr>\n",
       "    <tr>\n",
       "      <th>2</th>\n",
       "      <td>ABBA</td>\n",
       "      <td>As Good As New</td>\n",
       "      <td>/a/abba/as+good+as+new_20003033.html</td>\n",
       "      <td>I'll never know why I had to go  \\r\\nWhy I had...</td>\n",
       "    </tr>\n",
       "    <tr>\n",
       "      <th>3</th>\n",
       "      <td>ABBA</td>\n",
       "      <td>Bang</td>\n",
       "      <td>/a/abba/bang_20598415.html</td>\n",
       "      <td>Making somebody happy is a question of give an...</td>\n",
       "    </tr>\n",
       "    <tr>\n",
       "      <th>4</th>\n",
       "      <td>ABBA</td>\n",
       "      <td>Bang-A-Boomerang</td>\n",
       "      <td>/a/abba/bang+a+boomerang_20002668.html</td>\n",
       "      <td>Making somebody happy is a question of give an...</td>\n",
       "    </tr>\n",
       "  </tbody>\n",
       "</table>\n",
       "</div>"
      ],
      "text/plain": [
       "  artist                   song                                        link  \\\n",
       "0   ABBA  Ahe's My Kind Of Girl  /a/abba/ahes+my+kind+of+girl_20598417.html   \n",
       "1   ABBA       Andante, Andante       /a/abba/andante+andante_20002708.html   \n",
       "2   ABBA         As Good As New        /a/abba/as+good+as+new_20003033.html   \n",
       "3   ABBA                   Bang                  /a/abba/bang_20598415.html   \n",
       "4   ABBA       Bang-A-Boomerang      /a/abba/bang+a+boomerang_20002668.html   \n",
       "\n",
       "                                                text  \n",
       "0  Look at her face, it's a wonderful face  \\r\\nA...  \n",
       "1  Take it easy with me, please  \\r\\nTouch me gen...  \n",
       "2  I'll never know why I had to go  \\r\\nWhy I had...  \n",
       "3  Making somebody happy is a question of give an...  \n",
       "4  Making somebody happy is a question of give an...  "
      ]
     },
     "execution_count": 3,
     "metadata": {},
     "output_type": "execute_result"
    }
   ],
   "source": [
    "df.head(5)"
   ]
  },
  {
   "cell_type": "code",
   "execution_count": 4,
   "id": "b61c723f",
   "metadata": {},
   "outputs": [
    {
     "data": {
      "text/html": [
       "<div>\n",
       "<style scoped>\n",
       "    .dataframe tbody tr th:only-of-type {\n",
       "        vertical-align: middle;\n",
       "    }\n",
       "\n",
       "    .dataframe tbody tr th {\n",
       "        vertical-align: top;\n",
       "    }\n",
       "\n",
       "    .dataframe thead th {\n",
       "        text-align: right;\n",
       "    }\n",
       "</style>\n",
       "<table border=\"1\" class=\"dataframe\">\n",
       "  <thead>\n",
       "    <tr style=\"text-align: right;\">\n",
       "      <th></th>\n",
       "      <th>artist</th>\n",
       "      <th>song</th>\n",
       "      <th>link</th>\n",
       "      <th>text</th>\n",
       "    </tr>\n",
       "  </thead>\n",
       "  <tbody>\n",
       "    <tr>\n",
       "      <th>57645</th>\n",
       "      <td>Ziggy Marley</td>\n",
       "      <td>Good Old Days</td>\n",
       "      <td>/z/ziggy+marley/good+old+days_10198588.html</td>\n",
       "      <td>Irie days come on play  \\r\\nLet the angels fly...</td>\n",
       "    </tr>\n",
       "    <tr>\n",
       "      <th>57646</th>\n",
       "      <td>Ziggy Marley</td>\n",
       "      <td>Hand To Mouth</td>\n",
       "      <td>/z/ziggy+marley/hand+to+mouth_20531167.html</td>\n",
       "      <td>Power to the workers  \\r\\nMore power  \\r\\nPowe...</td>\n",
       "    </tr>\n",
       "    <tr>\n",
       "      <th>57647</th>\n",
       "      <td>Zwan</td>\n",
       "      <td>Come With Me</td>\n",
       "      <td>/z/zwan/come+with+me_20148981.html</td>\n",
       "      <td>all you need  \\r\\nis something i'll believe  \\...</td>\n",
       "    </tr>\n",
       "    <tr>\n",
       "      <th>57648</th>\n",
       "      <td>Zwan</td>\n",
       "      <td>Desire</td>\n",
       "      <td>/z/zwan/desire_20148986.html</td>\n",
       "      <td>northern star  \\r\\nam i frightened  \\r\\nwhere ...</td>\n",
       "    </tr>\n",
       "    <tr>\n",
       "      <th>57649</th>\n",
       "      <td>Zwan</td>\n",
       "      <td>Heartsong</td>\n",
       "      <td>/z/zwan/heartsong_20148991.html</td>\n",
       "      <td>come in  \\r\\nmake yourself at home  \\r\\ni'm a ...</td>\n",
       "    </tr>\n",
       "  </tbody>\n",
       "</table>\n",
       "</div>"
      ],
      "text/plain": [
       "             artist           song  \\\n",
       "57645  Ziggy Marley  Good Old Days   \n",
       "57646  Ziggy Marley  Hand To Mouth   \n",
       "57647          Zwan   Come With Me   \n",
       "57648          Zwan         Desire   \n",
       "57649          Zwan      Heartsong   \n",
       "\n",
       "                                              link  \\\n",
       "57645  /z/ziggy+marley/good+old+days_10198588.html   \n",
       "57646  /z/ziggy+marley/hand+to+mouth_20531167.html   \n",
       "57647           /z/zwan/come+with+me_20148981.html   \n",
       "57648                 /z/zwan/desire_20148986.html   \n",
       "57649              /z/zwan/heartsong_20148991.html   \n",
       "\n",
       "                                                    text  \n",
       "57645  Irie days come on play  \\r\\nLet the angels fly...  \n",
       "57646  Power to the workers  \\r\\nMore power  \\r\\nPowe...  \n",
       "57647  all you need  \\r\\nis something i'll believe  \\...  \n",
       "57648  northern star  \\r\\nam i frightened  \\r\\nwhere ...  \n",
       "57649  come in  \\r\\nmake yourself at home  \\r\\ni'm a ...  "
      ]
     },
     "execution_count": 4,
     "metadata": {},
     "output_type": "execute_result"
    }
   ],
   "source": [
    "df.tail(5)"
   ]
  },
  {
   "cell_type": "code",
   "execution_count": 5,
   "id": "d7d8fa2a",
   "metadata": {},
   "outputs": [
    {
     "data": {
      "text/plain": [
       "(57650, 4)"
      ]
     },
     "execution_count": 5,
     "metadata": {},
     "output_type": "execute_result"
    }
   ],
   "source": [
    "df.shape"
   ]
  },
  {
   "cell_type": "code",
   "execution_count": 6,
   "id": "a8fdecf9",
   "metadata": {},
   "outputs": [
    {
     "data": {
      "text/plain": [
       "artist    0\n",
       "song      0\n",
       "link      0\n",
       "text      0\n",
       "dtype: int64"
      ]
     },
     "execution_count": 6,
     "metadata": {},
     "output_type": "execute_result"
    }
   ],
   "source": [
    "df.isnull().sum()"
   ]
  },
  {
   "cell_type": "code",
   "execution_count": 7,
   "id": "dde3d24b",
   "metadata": {},
   "outputs": [],
   "source": [
    "df =df.sample(5000).drop('link', axis=1).reset_index(drop=True)"
   ]
  },
  {
   "cell_type": "code",
   "execution_count": 8,
   "id": "cf5ff69f",
   "metadata": {},
   "outputs": [
    {
     "data": {
      "text/html": [
       "<div>\n",
       "<style scoped>\n",
       "    .dataframe tbody tr th:only-of-type {\n",
       "        vertical-align: middle;\n",
       "    }\n",
       "\n",
       "    .dataframe tbody tr th {\n",
       "        vertical-align: top;\n",
       "    }\n",
       "\n",
       "    .dataframe thead th {\n",
       "        text-align: right;\n",
       "    }\n",
       "</style>\n",
       "<table border=\"1\" class=\"dataframe\">\n",
       "  <thead>\n",
       "    <tr style=\"text-align: right;\">\n",
       "      <th></th>\n",
       "      <th>artist</th>\n",
       "      <th>song</th>\n",
       "      <th>text</th>\n",
       "    </tr>\n",
       "  </thead>\n",
       "  <tbody>\n",
       "    <tr>\n",
       "      <th>0</th>\n",
       "      <td>Britney Spears</td>\n",
       "      <td>Mornin'</td>\n",
       "      <td>Early mornin'  \\r\\nGreat  \\r\\nI was out real l...</td>\n",
       "    </tr>\n",
       "    <tr>\n",
       "      <th>1</th>\n",
       "      <td>Peter Gabriel</td>\n",
       "      <td>Growing Up</td>\n",
       "      <td>Folded in your fleshy purse  \\r\\nI am floating...</td>\n",
       "    </tr>\n",
       "    <tr>\n",
       "      <th>2</th>\n",
       "      <td>George Harrison</td>\n",
       "      <td>Dream Away</td>\n",
       "      <td>Oh Ry In Eye Ay - Oh Ry In Eye Ay  \\r\\nOh Ry I...</td>\n",
       "    </tr>\n",
       "    <tr>\n",
       "      <th>3</th>\n",
       "      <td>The Temptations</td>\n",
       "      <td>(You Can) Depend On Me</td>\n",
       "      <td>Hmmmmmm...  \\r\\nYou...  \\r\\nNeed a love like m...</td>\n",
       "    </tr>\n",
       "    <tr>\n",
       "      <th>4</th>\n",
       "      <td>Beautiful South</td>\n",
       "      <td>Here It Is Again</td>\n",
       "      <td>Here it is again it's so so mad  \\r\\nTurning y...</td>\n",
       "    </tr>\n",
       "    <tr>\n",
       "      <th>5</th>\n",
       "      <td>The Script</td>\n",
       "      <td>Hall Of Fame</td>\n",
       "      <td>Yeah, you can be the greatest  \\r\\nYou can be ...</td>\n",
       "    </tr>\n",
       "    <tr>\n",
       "      <th>6</th>\n",
       "      <td>Tori Amos</td>\n",
       "      <td>Carbon</td>\n",
       "      <td>carbon made found her at the  \\r\\nEnd of a cha...</td>\n",
       "    </tr>\n",
       "    <tr>\n",
       "      <th>7</th>\n",
       "      <td>Natalie Imbruglia</td>\n",
       "      <td>Identify</td>\n",
       "      <td>Your eyes, they send me  \\r\\nTo eternity  \\r\\n...</td>\n",
       "    </tr>\n",
       "    <tr>\n",
       "      <th>8</th>\n",
       "      <td>Harry Belafonte</td>\n",
       "      <td>Go Down Emanuel Road</td>\n",
       "      <td>Go down Emanuel Road, man and boy  \\r\\nGot to ...</td>\n",
       "    </tr>\n",
       "    <tr>\n",
       "      <th>9</th>\n",
       "      <td>Louis Jordan</td>\n",
       "      <td>Lemonade</td>\n",
       "      <td>Yes I'm looking for a chick  \\r\\nThat only dri...</td>\n",
       "    </tr>\n",
       "  </tbody>\n",
       "</table>\n",
       "</div>"
      ],
      "text/plain": [
       "              artist                    song  \\\n",
       "0     Britney Spears                 Mornin'   \n",
       "1      Peter Gabriel              Growing Up   \n",
       "2    George Harrison              Dream Away   \n",
       "3    The Temptations  (You Can) Depend On Me   \n",
       "4    Beautiful South        Here It Is Again   \n",
       "5         The Script            Hall Of Fame   \n",
       "6          Tori Amos                  Carbon   \n",
       "7  Natalie Imbruglia                Identify   \n",
       "8    Harry Belafonte    Go Down Emanuel Road   \n",
       "9       Louis Jordan                Lemonade   \n",
       "\n",
       "                                                text  \n",
       "0  Early mornin'  \\r\\nGreat  \\r\\nI was out real l...  \n",
       "1  Folded in your fleshy purse  \\r\\nI am floating...  \n",
       "2  Oh Ry In Eye Ay - Oh Ry In Eye Ay  \\r\\nOh Ry I...  \n",
       "3  Hmmmmmm...  \\r\\nYou...  \\r\\nNeed a love like m...  \n",
       "4  Here it is again it's so so mad  \\r\\nTurning y...  \n",
       "5  Yeah, you can be the greatest  \\r\\nYou can be ...  \n",
       "6  carbon made found her at the  \\r\\nEnd of a cha...  \n",
       "7  Your eyes, they send me  \\r\\nTo eternity  \\r\\n...  \n",
       "8  Go down Emanuel Road, man and boy  \\r\\nGot to ...  \n",
       "9  Yes I'm looking for a chick  \\r\\nThat only dri...  "
      ]
     },
     "execution_count": 8,
     "metadata": {},
     "output_type": "execute_result"
    }
   ],
   "source": [
    "df.head(10)"
   ]
  },
  {
   "cell_type": "code",
   "execution_count": 9,
   "id": "26eb5b1c",
   "metadata": {},
   "outputs": [
    {
     "data": {
      "text/plain": [
       "\"Early mornin'  \\r\\nGreat  \\r\\nI was out real late last night  \\r\\nGot a little messy  \\r\\nEarly morning  \\r\\nCan't be like that anymore  \\r\\nNo  \\r\\n  \\r\\nI was shaking my ass in the streets alone and  \\r\\nJust walked in and it's early mornin'  \\r\\nBump, bump till the break of dawn  \\r\\nAnd it don't stop till the early mornin'  \\r\\nPassed out on the couch and yawnin'  \\r\\nJust walked in and it's early mornin'  \\r\\nBump, bump till the break of dawn  \\r\\nAnd it don't stop till the early mornin'  \\r\\n  \\r\\nMet a tall dude, kinda dark hair  \\r\\nWhen he walked up somebody grabbed him  \\r\\nBut I liked him told him come here  \\r\\nKinda cool  \\r\\nBaby, we can make plans  \\r\\nWhere ya live  \\r\\nDo ya mama live there  \\r\\nWe can hook up at the hotel  \\r\\nHands down so I told him, let's go  \\r\\nBut have a next guess  \\r\\nBut you don't wanna know  \\r\\n  \\r\\nI was shaking my ass in the streets alone and  \\r\\nJust walked in and it's early mornin'  \\r\\nBump, bump till the break of dawn  \\r\\nAnd it don't stop till the early mornin'  \\r\\nPassed out on the couch and yawnin'  \\r\\nJust walked in and it's early mornin'  \\r\\nBump, bump till the break of dawn  \\r\\nAnd it don't stop till the early mornin'  \\r\\n  \\r\\nOh, in love  \\r\\nSo I approached him  \\r\\nWe gotta give him his friends  \\r\\nThere's something 'bout him that shows  \\r\\nSo I said, what the hell, let's go  \\r\\nGot up, got on the dance floor  \\r\\nHooked up with a guy named Joe  \\r\\nWhen the music was fast and slow  \\r\\nBut have a next guess  \\r\\nBut you don't wanna know  \\r\\n  \\r\\nI was shaking my ass in the streets alone and  \\r\\nJust walked in and it's early mornin'  \\r\\nBump, bump till the break of dawn  \\r\\nAnd it don't stop till the early mornin'  \\r\\nPassed out on the couch and yawnin'  \\r\\nJust walked in and it's early mornin'  \\r\\nBump, bump till the break of dawn  \\r\\nAnd it don't stop till the early mornin'  \\r\\n  \\r\\nCall all your boys  \\r\\nCall all your girls  \\r\\nCall all your friends  \\r\\nLet's do it again  \\r\\nLet's do it again  \\r\\n  \\r\\nYes  \\r\\nEarly morning  \\r\\nYes  \\r\\nCan't keep doin' this  \\r\\n  \\r\\nI light your fire  \\r\\nYour one desire  \\r\\nPull on me, baby  \\r\\nAnd I'll take you higher  \\r\\n  \\r\\nYou should try her  \\r\\nSo come over here and let's go so (woah woah)  \\r\\n  \\r\\nIi was shaking my ass in the streets alone and  \\r\\nJust walked in and it's early mornin'  \\r\\nBump, bump till the break of dawn  \\r\\nAnd it don't stop till the early mornin'  \\r\\nPassed out on the couch and yawnin'  \\r\\nJust walked in and it's early mornin'  \\r\\nBump, bump till the break of dawn  \\r\\nAnd it don't stop till the early mornin'  \\r\\n  \\r\\nCall all your boys  \\r\\nCall all your girls  \\r\\nCall all your friends  \\r\\nLet's do it again  \\r\\nLet's do it  \\r\\n  \\r\\nEarly mornin'  \\r\\nEarly mornin'\\r\\n\\r\\n\""
      ]
     },
     "execution_count": 9,
     "metadata": {},
     "output_type": "execute_result"
    }
   ],
   "source": [
    "df['text'][0]"
   ]
  },
  {
   "cell_type": "code",
   "execution_count": 10,
   "id": "dc76d0f4",
   "metadata": {},
   "outputs": [],
   "source": [
    "# df = df.sample(5000)"
   ]
  },
  {
   "cell_type": "code",
   "execution_count": 11,
   "id": "4a0c4186",
   "metadata": {},
   "outputs": [
    {
     "data": {
      "text/plain": [
       "(5000, 3)"
      ]
     },
     "execution_count": 11,
     "metadata": {},
     "output_type": "execute_result"
    }
   ],
   "source": [
    "df.shape"
   ]
  },
  {
   "cell_type": "markdown",
   "id": "865afecc",
   "metadata": {},
   "source": [
    "Text Cleaning/ Text Preprocessing"
   ]
  },
  {
   "cell_type": "code",
   "execution_count": 12,
   "id": "b2359525",
   "metadata": {},
   "outputs": [],
   "source": [
    "df['text'] = df['text'].str.lower().replace(r'^\\w\\s', ' ').replace(r'\\n', ' ', regex = True)"
   ]
  },
  {
   "cell_type": "code",
   "execution_count": 13,
   "id": "7e78451e",
   "metadata": {},
   "outputs": [
    {
     "name": "stderr",
     "output_type": "stream",
     "text": [
      "[nltk_data] Downloading package punkt to /Users/hina/nltk_data...\n",
      "[nltk_data]   Package punkt is already up-to-date!\n"
     ]
    }
   ],
   "source": [
    "import nltk\n",
    "\n",
    "# Download the necessary NLTK data files for tokenization\n",
    "nltk.download('punkt')\n",
    "\n",
    "from nltk.stem.porter import PorterStemmer\n",
    "stemmer = PorterStemmer()\n",
    "\n",
    "def tokenization(txt):\n",
    "    tokens = nltk.word_tokenize(txt)\n",
    "    stemming = [stemmer.stem(w) for w in tokens]\n",
    "    return \" \".join(stemming)"
   ]
  },
  {
   "cell_type": "code",
   "execution_count": 14,
   "id": "f5c1ece2",
   "metadata": {},
   "outputs": [],
   "source": [
    "df['text'] = df['text'].apply(lambda x: tokenization(x))"
   ]
  },
  {
   "cell_type": "code",
   "execution_count": 15,
   "id": "95fc3be2",
   "metadata": {},
   "outputs": [],
   "source": [
    "from sklearn.feature_extraction.text import TfidfVectorizer\n",
    "from sklearn.metrics.pairwise import cosine_similarity"
   ]
  },
  {
   "cell_type": "code",
   "execution_count": 16,
   "id": "f4945e8f",
   "metadata": {},
   "outputs": [],
   "source": [
    "tfidvector = TfidfVectorizer(analyzer='word',stop_words='english')\n",
    "matrix = tfidvector.fit_transform(df['text'])\n",
    "similarity = cosine_similarity(matrix)"
   ]
  },
  {
   "cell_type": "code",
   "execution_count": 17,
   "id": "c1794772",
   "metadata": {},
   "outputs": [
    {
     "data": {
      "text/plain": [
       "array([1.        , 0.02302463, 0.00259548, ..., 0.01847379, 0.02286927,\n",
       "       0.02758081])"
      ]
     },
     "execution_count": 17,
     "metadata": {},
     "output_type": "execute_result"
    }
   ],
   "source": [
    "similarity[0]"
   ]
  },
  {
   "cell_type": "code",
   "execution_count": 18,
   "id": "a6221770",
   "metadata": {},
   "outputs": [
    {
     "data": {
      "text/html": [
       "<div>\n",
       "<style scoped>\n",
       "    .dataframe tbody tr th:only-of-type {\n",
       "        vertical-align: middle;\n",
       "    }\n",
       "\n",
       "    .dataframe tbody tr th {\n",
       "        vertical-align: top;\n",
       "    }\n",
       "\n",
       "    .dataframe thead th {\n",
       "        text-align: right;\n",
       "    }\n",
       "</style>\n",
       "<table border=\"1\" class=\"dataframe\">\n",
       "  <thead>\n",
       "    <tr style=\"text-align: right;\">\n",
       "      <th></th>\n",
       "      <th>artist</th>\n",
       "      <th>song</th>\n",
       "      <th>text</th>\n",
       "    </tr>\n",
       "  </thead>\n",
       "  <tbody>\n",
       "    <tr>\n",
       "      <th>3433</th>\n",
       "      <td>UB40</td>\n",
       "      <td>Crying Over You</td>\n",
       "      <td>cri over you in the morn cri over you in the e...</td>\n",
       "    </tr>\n",
       "  </tbody>\n",
       "</table>\n",
       "</div>"
      ],
      "text/plain": [
       "     artist             song  \\\n",
       "3433   UB40  Crying Over You   \n",
       "\n",
       "                                                   text  \n",
       "3433  cri over you in the morn cri over you in the e...  "
      ]
     },
     "execution_count": 18,
     "metadata": {},
     "output_type": "execute_result"
    }
   ],
   "source": [
    "df[df['song'] == 'Crying Over You']"
   ]
  },
  {
   "cell_type": "code",
   "execution_count": 19,
   "id": "5aaa2361",
   "metadata": {},
   "outputs": [],
   "source": [
    "def recommendation(song_df):\n",
    "    # Filter DataFrame based on song name\n",
    "    filtered_df = df[df['song'] == song_df]\n",
    "    \n",
    "    # Check if any rows match the query\n",
    "    if filtered_df.empty:\n",
    "        print(f\"No recommendations found for the song '{song_df}'.\")\n",
    "        return\n",
    "    \n",
    "    # If there are matching rows, proceed with recommendation logic\n",
    "    idx = filtered_df.index[0]\n",
    "    distances = sorted(list(enumerate(similarity[idx])), reverse=True, key=lambda x: x[1])\n",
    "    songs = []\n",
    "    # Rest of your recommendation logic...\n",
    "\n",
    "    for m_id in distances[1:21]:\n",
    "        songs.append(df.iloc[m_id[0]].song)\n",
    "        \n",
    "    return songs"
   ]
  },
  {
   "cell_type": "code",
   "execution_count": 20,
   "id": "216c25bb",
   "metadata": {},
   "outputs": [
    {
     "data": {
      "text/plain": [
       "['Crying',\n",
       " \"I'm Gonna Cry (Cry Baby)\",\n",
       " \"It's The Falling In Love\",\n",
       " 'Cry Baby',\n",
       " 'I Cry',\n",
       " \"It's All Over But The Crying\",\n",
       " 'Cry A While',\n",
       " 'Johnny Was',\n",
       " 'Cry Me A River',\n",
       " 'Cry Cry Cry',\n",
       " 'Fly Away',\n",
       " 'I Can Cry Again',\n",
       " 'Almost Hear You Sigh',\n",
       " 'Phoenix',\n",
       " 'Speak To Me Lord',\n",
       " 'This Is What Makes Us Girls',\n",
       " 'When You Cry',\n",
       " 'Do You Really Want To Hurt Me',\n",
       " 'When The Time Comes',\n",
       " \"Don't Pass Me By\"]"
      ]
     },
     "execution_count": 20,
     "metadata": {},
     "output_type": "execute_result"
    }
   ],
   "source": [
    "recommendation('Crying Over You')"
   ]
  },
  {
   "cell_type": "code",
   "execution_count": 21,
   "id": "18192437",
   "metadata": {},
   "outputs": [],
   "source": [
    "import pickle\n",
    "pickle.dump(similarity,open('similarity.pkl','wb'))\n",
    "pickle.dump(df,open('df.pkl','wb'))"
   ]
  },
  {
   "cell_type": "code",
   "execution_count": null,
   "id": "e7edcf20",
   "metadata": {},
   "outputs": [],
   "source": []
  }
 ],
 "metadata": {
  "kernelspec": {
   "display_name": "Python 3",
   "language": "python",
   "name": "python3"
  },
  "language_info": {
   "codemirror_mode": {
    "name": "ipython",
    "version": 3
   },
   "file_extension": ".py",
   "mimetype": "text/x-python",
   "name": "python",
   "nbconvert_exporter": "python",
   "pygments_lexer": "ipython3",
   "version": "3.11.7"
  }
 },
 "nbformat": 4,
 "nbformat_minor": 5
}
